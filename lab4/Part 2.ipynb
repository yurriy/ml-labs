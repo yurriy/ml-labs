{
 "cells": [
  {
   "cell_type": "code",
   "execution_count": 1,
   "metadata": {
    "collapsed": true
   },
   "outputs": [],
   "source": [
    "import numpy as np\n",
    "import matplotlib.pyplot as plt\n",
    "\n",
    "np.random.seed(0)"
   ]
  },
  {
   "cell_type": "markdown",
   "metadata": {},
   "source": [
    "1. Шахматы\n",
    "2. Броуновское движение частиц: при движении частица влияет на другие, действия которых в будущем зависят от ее текущего действия\n",
    "3. * $r(s_{t}, a_{t}) = \\mathbb{E}[R_{t+1}|S_t = s_t, A_t = a_t] = \\sum_{s_{t+1}}\\sum_{r_{t+1}}r_{t+1}\\cdot p(s_{t+1}, r_{t+1}|s_t, a_t)$\n",
    "   * $p(s_{t+1} | s_t, a_t) = \\Pr\\{S_{t+1} = s_{t+1} | S_t = s_t, A_t = a_t \\} = \\sum_{r_{t+1}}p(s_{t+1}, r_{t+1}|s_t, a_t)$\n",
    "   * $r(s_t, a_t, s_{t+1}) = \\mathbb{E}[R_{t+1}|S_{t+1} = s_{t+1}, S_t = s_t, A_t = a_t]= \\sum_{r_{t+1}}r_{t+1}\\cdot \\frac{p(s_{t+1}, r_{t+1}|s_t,a_t)}{p(s_{t+1} | s_t, a_t)}$"
   ]
  },
  {
   "cell_type": "code",
   "execution_count": 79,
   "metadata": {
    "collapsed": false
   },
   "outputs": [],
   "source": [
    "states_cnt = 100\n",
    "actions_cnt = 2\n",
    "rewards_cnt = 2"
   ]
  },
  {
   "cell_type": "code",
   "execution_count": 80,
   "metadata": {
    "collapsed": false
   },
   "outputs": [],
   "source": [
    "class Environment:\n",
    "    def __init__(self):\n",
    "        self.p = np.zeros((states_cnt, actions_cnt, states_cnt, rewards_cnt))\n",
    "        for s in range(states_cnt):\n",
    "            if s == 0:\n",
    "                self.p[s][0][s][0] = 1\n",
    "                self.p[s][1][s + 1][0] = 1\n",
    "            elif s == 99:\n",
    "                self.p[s][0][s - 1][0] = 1\n",
    "                self.p[s][1][s][1] = 1\n",
    "            else:\n",
    "                self.p[s][0][s - 1][0] = 1\n",
    "                self.p[s][1][s + 1][0] = 1\n",
    "        self.state = 0\n",
    "    \n",
    "    def make_action(self, action):\n",
    "        if action == 0:\n",
    "            if self.state != 0:\n",
    "                self.state -= 1\n",
    "            return 0\n",
    "        else:\n",
    "            if self.state == 99:\n",
    "                return 1\n",
    "            else:\n",
    "                self.state += 1\n",
    "                return 0\n",
    "            \n",
    "    def get_probability(self, s_new, reward, s, a):\n",
    "        if s_new in range(states_cnt) and reward in range(2):\n",
    "            return self.p[s][a][s_new][reward]\n",
    "        else:\n",
    "            return 0\n",
    "        \n",
    "    def get_state(self):\n",
    "        return self.state"
   ]
  },
  {
   "cell_type": "code",
   "execution_count": 109,
   "metadata": {
    "collapsed": false
   },
   "outputs": [],
   "source": [
    "class PolicyIterationStrategy:\n",
    "    def __init__(self, depth, env):\n",
    "        self.v = np.random.uniform(0, 1, (states_cnt))\n",
    "        self.q = np.random.uniform(0, 1, (states_cnt, 2))\n",
    "        self.env = env\n",
    "        self.depth = depth\n",
    "        \n",
    "    def calc_q(self, s, a):\n",
    "        ans = 0\n",
    "        for reward in range(rewards_cnt):\n",
    "            s_new = s - 1 + a * 2\n",
    "            s_new = min(s_new, 99)\n",
    "            s_new = max(s_new, 0)\n",
    "            ans += self.env.get_probability(s_new, reward, s, a) * (reward + self.depth * self.v[s_new])\n",
    "        return ans\n",
    "    \n",
    "    def update(self):\n",
    "        delta = 1\n",
    "        while delta > 1e-80:\n",
    "            delta = 0\n",
    "            v = np.zeros(states_cnt)\n",
    "            for state in range(states_cnt):\n",
    "                for action in range(actions_cnt):\n",
    "                    self.q[state][action] = self.calc_q(state, action)\n",
    "                v[state] = np.max(self.q[state])\n",
    "            delta = np.max(self.v - v)\n",
    "            self.v = v\n",
    "    \n",
    "    def choose_action(self):\n",
    "        s = self.env.get_state()\n",
    "        return np.argmax(self.q[s])\n",
    "    \n",
    "    def run(self):\n",
    "        full_reward = 0\n",
    "        hist = []\n",
    "        for t in range(1000):\n",
    "            a = self.choose_action()\n",
    "            reward = self.env.make_action(a)\n",
    "            full_reward += reward\n",
    "            hist.append(full_reward)\n",
    "            self.update()\n",
    "        return np.array(hist)\n",
    "        "
   ]
  },
  {
   "cell_type": "code",
   "execution_count": 110,
   "metadata": {
    "collapsed": false
   },
   "outputs": [
    {
     "name": "stdout",
     "output_type": "stream",
     "text": [
      "900\n"
     ]
    },
    {
     "data": {
      "image/png": "[encoded data removed]",
      "text/plain": [
       "<matplotlib.figure.Figure at 0x7f98bd267a20>"
      ]
     },
     "metadata": {},
     "output_type": "display_data"
    }
   ],
   "source": [
    "env = Environment()\n",
    "depth = 0.5\n",
    "st1 = PolicyIterationStrategy(depth, env)\n",
    "hist = st1.run()\n",
    "\n",
    "print(hist.max())\n",
    "plt.plot(hist)\n",
    "plt.show()"
   ]
  },
  {
   "cell_type": "code",
   "execution_count": null,
   "metadata": {
    "collapsed": true
   },
   "outputs": [],
   "source": [
    "class ValueInterationStrategy:\n",
    "    def __init__(self):\n",
    "        self.v = np.random.uniform(0, 1, (states_cnt))\n",
    "        self.q = np.random.uniform(0, 1, (states_cnt, 2))\n",
    "        \n",
    "    def update(self):\n",
    "        v_new = np.zeros((states_cnt))\n",
    "        for s in range(states_cnt):\n",
    "            v_new[s] = "
   ]
  }
 ],
 "metadata": {
  "kernelspec": {
   "display_name": "Python 3",
   "language": "python",
   "name": "python3"
  },
  "language_info": {
   "codemirror_mode": {
    "name": "ipython",
    "version": 3
   },
   "file_extension": ".py",
   "mimetype": "text/x-python",
   "name": "python",
   "nbconvert_exporter": "python",
   "pygments_lexer": "ipython3",
   "version": "3.5.2+"
  }
 },
 "nbformat": 4,
 "nbformat_minor": 2
}
